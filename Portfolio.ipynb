{
  "nbformat": 4,
  "nbformat_minor": 0,
  "metadata": {
    "colab": {
      "provenance": [],
      "authorship_tag": "ABX9TyNF1+OEL5iKtR23eo4CIiIU",
      "include_colab_link": true
    },
    "kernelspec": {
      "name": "ir",
      "display_name": "R"
    },
    "language_info": {
      "name": "R"
    },
    "gpuClass": "standard"
  },
  "cells": [
    {
      "cell_type": "markdown",
      "metadata": {
        "id": "view-in-github",
        "colab_type": "text"
      },
      "source": [
        "<a href=\"https://colab.research.google.com/github/danilorcpassos/portfolio/blob/main/Portfolio.ipynb\" target=\"_parent\"><img src=\"https://colab.research.google.com/assets/colab-badge.svg\" alt=\"Open In Colab\"/></a>"
      ]
    },
    {
      "cell_type": "code",
      "source": [
        "library(portfoliodown)\n"
      ],
      "metadata": {
        "id": "Ap-b4dAVzLHE"
      },
      "execution_count": null,
      "outputs": []
    },
    {
      "cell_type": "code",
      "source": [
        "devtools::install_github(\"business-science/portfoliodown\")"
      ],
      "metadata": {
        "colab": {
          "base_uri": "https://localhost:8080/"
        },
        "id": "TQ-fFAaYzLtm",
        "outputId": "09b92f71-fe91-43cd-ba4a-89ce80da81da"
      },
      "execution_count": null,
      "outputs": [
        {
          "output_type": "stream",
          "name": "stdout",
          "text": [
            "\u001b[36m──\u001b[39m \u001b[36mR CMD build\u001b[39m \u001b[36m─────────────────────────────────────────────────────────────────\u001b[39m\n",
            "* checking for file ‘/tmp/Rtmp3uYquu/remotes183662002e5/business-science-portfoliodown-fdf3f2b/DESCRIPTION’ ... OK\n",
            "* preparing ‘portfoliodown’:\n",
            "* checking DESCRIPTION meta-information ... OK\n",
            "* checking for LF line-endings in source and make files and shell scripts\n",
            "* checking for empty or unneeded directories\n",
            "* building ‘portfoliodown_0.0.0.9000.tar.gz’\n",
            "\n"
          ]
        },
        {
          "output_type": "stream",
          "name": "stderr",
          "text": [
            "Installing package into ‘/usr/local/lib/R/site-library’\n",
            "(as ‘lib’ is unspecified)\n",
            "\n"
          ]
        }
      ]
    },
    {
      "cell_type": "code",
      "source": [
        "library(portfoliodown)\n",
        "\n",
        "portfoliodown::new_portfolio_site(force = TRUE)"
      ],
      "metadata": {
        "colab": {
          "base_uri": "https://localhost:8080/"
        },
        "id": "6AO3ONwez482",
        "outputId": "314f23cc-32d9-4a10-9122-6a8a94591a12"
      },
      "execution_count": null,
      "outputs": [
        {
          "output_type": "stream",
          "name": "stderr",
          "text": [
            "― Creating your new site\n",
            "\n",
            "| Installing the theme business-science/raditian-free-hugo-theme-data-science from github.com\n",
            "\n",
            "| Converting all metadata to the YAML format\n",
            "\n",
            "| Adding netlify.toml in case you want to deploy the site to Netlify\n",
            "\n",
            "| Adding .Rprofile to set options() for blogdown\n",
            "\n",
            "― The new site is ready\n",
            "\n",
            "○ To start a local preview: use blogdown::serve_site()\n",
            "\n",
            "○ To stop a local preview: use blogdown::stop_server(), or restart your R session\n",
            "\n"
          ]
        }
      ]
    },
    {
      "cell_type": "code",
      "source": [
        "library(blogdown)"
      ],
      "metadata": {
        "id": "I-Sj0j7P6-x1"
      },
      "execution_count": null,
      "outputs": []
    },
    {
      "cell_type": "code",
      "source": [
        "serve_site()"
      ],
      "metadata": {
        "id": "FkMPeDWv82fH"
      },
      "execution_count": null,
      "outputs": []
    },
    {
      "cell_type": "code",
      "source": [
        "blogdown::serve_site()"
      ],
      "metadata": {
        "id": "e7uoj0O259do"
      },
      "execution_count": null,
      "outputs": []
    },
    {
      "cell_type": "code",
      "source": [
        "install.packages(\"shiny\")"
      ],
      "metadata": {
        "colab": {
          "base_uri": "https://localhost:8080/"
        },
        "id": "LaK8GXFJB03z",
        "outputId": "df0e0810-ac97-4a75-a0f8-b941c06ecfda"
      },
      "execution_count": null,
      "outputs": [
        {
          "output_type": "stream",
          "name": "stderr",
          "text": [
            "Installing package into ‘/usr/local/lib/R/site-library’\n",
            "(as ‘lib’ is unspecified)\n",
            "\n",
            "also installing the dependencies ‘xtable’, ‘sourcetools’\n",
            "\n",
            "\n"
          ]
        }
      ]
    },
    {
      "cell_type": "code",
      "source": [
        "library(shiny)"
      ],
      "metadata": {
        "id": "W1bXTj9xCsOy"
      },
      "execution_count": null,
      "outputs": []
    },
    {
      "cell_type": "code",
      "source": [
        "ui <- fluidPage(\n",
        "\n",
        "    titlePanel(\"Old Faithful Geyser Data\"),\n",
        "\n",
        "    sidebarLayout(\n",
        "        sidebarPanel(\n",
        "            sliderInput(\"bins\",\n",
        "                        \"Number of bins:\",\n",
        "                        min = 1,\n",
        "                        max = 50,\n",
        "                        value = 30)\n",
        "        ),\n",
        "\n",
        "        mainPanel(\n",
        "           plotOutput(\"distPlot\")\n",
        "        )\n",
        "    )\n",
        ")\n",
        "\n",
        "server <- function(input, output) {\n",
        "\n",
        "    output$distPlot <- renderPlot({\n",
        "        x    <- faithful[, 2]\n",
        "        bins <- seq(min(x), max(x), length.out = input$bins + 1)\n",
        "\n",
        "        hist(x, breaks = bins, col = 'darkgray', border = 'white',\n",
        "             xlab = 'Waiting time to next eruption (in mins)',\n",
        "             main = 'Histogram of waiting times')\n",
        "    })\n",
        "}\n",
        "\n",
        "shinyApp(ui = ui, server = server)\n",
        "\n"
      ],
      "metadata": {
        "colab": {
          "base_uri": "https://localhost:8080/"
        },
        "id": "jwQx6PzeBxrf",
        "outputId": "20376dab-e382-4d6b-c235-759cd9b7f5fa"
      },
      "execution_count": null,
      "outputs": [
        {
          "output_type": "stream",
          "name": "stderr",
          "text": [
            "\n",
            "Listening on http://127.0.0.1:7826\n",
            "\n"
          ]
        }
      ]
    },
    {
      "cell_type": "markdown",
      "source": [
        "# Nova seção"
      ],
      "metadata": {
        "id": "ENXaAXqjGger"
      }
    },
    {
      "cell_type": "markdown",
      "source": [
        "# Nova seção"
      ],
      "metadata": {
        "id": "QiUzGQmwGhIn"
      }
    }
  ]
}